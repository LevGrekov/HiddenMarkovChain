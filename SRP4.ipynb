{
 "cells": [
  {
   "cell_type": "code",
   "execution_count": 286,
   "id": "0c070ad6",
   "metadata": {},
   "outputs": [],
   "source": [
    "import pandas as pd\n",
    "import numpy as np\n",
    "import scipy.stats as stats\n",
    "import matplotlib.pyplot as plt"
   ]
  },
  {
   "cell_type": "markdown",
   "id": "b41905af",
   "metadata": {},
   "source": [
    "## Получаем параметры модели $(a_1,a_2,a_3,a_4,\\mu,\\sigma^2) = \\hat{\\theta}$"
   ]
  },
  {
   "cell_type": "code",
   "execution_count": 5,
   "id": "244b9081",
   "metadata": {},
   "outputs": [],
   "source": [
    "train_data = pd.read_csv('train.csv')\n",
    "current_visible_data = pd.read_csv('current_visible.csv')\n",
    "\n",
    "xi = train_data[['x', 'y']].values\n",
    "dzeta = train_data[['hidden_x', 'hidden_y']].values"
   ]
  },
  {
   "cell_type": "code",
   "execution_count": 6,
   "id": "2b7b1967",
   "metadata": {},
   "outputs": [
    {
     "name": "stdout",
     "output_type": "stream",
     "text": [
      "оценка a1,a2,a3,a4:\n"
     ]
    },
    {
     "data": {
      "text/plain": [
       "{(0, 1): 0.2072072072072072,\n",
       " (1, 0): 0.24774774774774774,\n",
       " (0, -1): 0.2702702702702703,\n",
       " (-1, 0): 0.2747747747747748}"
      ]
     },
     "execution_count": 6,
     "metadata": {},
     "output_type": "execute_result"
    }
   ],
   "source": [
    "\n",
    "def get_a(data):\n",
    "    a = {\n",
    "        (0, 1): 0,\n",
    "        (1, 0): 0,\n",
    "        (0,-1): 0,\n",
    "        (-1, 0): 0}\n",
    "\n",
    "    for sample in data['sample'].unique():\n",
    "        traj = data[data['sample'] == sample]\n",
    "        for t in range(len(traj) - 1):\n",
    "            curr_state = (traj.iloc[t]['hidden_x'],traj.iloc[t]['hidden_y'])\n",
    "            next_state = (traj.iloc[t+1]['hidden_x'],traj.iloc[t+1]['hidden_y'])\n",
    "            a_type = next_state[0]-curr_state[0],next_state[1]-curr_state[1]\n",
    "            if (a_type in a): a[a_type] += 1\n",
    "    normalized_a = {key: value / sum(a.values()) for key, value in a.items()}\n",
    "    return normalized_a\n",
    "\n",
    "a = get_a(train_data)\n",
    "print(\"оценка a1,a2,a3,a4:\")\n",
    "a\n"
   ]
  },
  {
   "cell_type": "code",
   "execution_count": 11,
   "id": "7f82cf33",
   "metadata": {},
   "outputs": [
    {
     "name": "stdout",
     "output_type": "stream",
     "text": [
      "Общая оценка μ = [-0.31881062 -1.14982486]\n",
      "Общая оценка σ²= 6.6584115193079025\n"
     ]
    }
   ],
   "source": [
    "xi = train_data[['x', 'y']].values\n",
    "dzeta = train_data[['hidden_x', 'hidden_y']].values\n",
    "mu= np.mean(xi - dzeta, axis=0)\n",
    "sigma2 = np.var(xi - dzeta, ddof=0)\n",
    "cov = sigma2 * np.eye(2)\n",
    "print(\"Общая оценка μ =\", mu)\n",
    "print(\"Общая оценка σ²=\", sigma2)"
   ]
  },
  {
   "cell_type": "markdown",
   "id": "10dae130",
   "metadata": {},
   "source": [
    "## Восстанавливаем $\\zeta$"
   ]
  },
  {
   "cell_type": "code",
   "execution_count": 580,
   "id": "92acef58",
   "metadata": {},
   "outputs": [],
   "source": [
    "from scipy.stats import multivariate_normal\n",
    "\n",
    "def find_max_path(cur_xi,cur_zeta):\n",
    "    probs = []\n",
    "    for a_key, a_value in a.items():\n",
    "        rv = multivariate_normal(mu + cur_zeta + np.array(a_key) , cov)\n",
    "        probs.append(a_value * rv.pdf(cur_xi))\n",
    "    return max(probs)"
   ]
  },
  {
   "cell_type": "markdown",
   "metadata": {},
   "source": [
    "<!-- \n",
    "Веселимся дальше.\n",
    "$(\\xi(t) \\mid \\zeta(t)) \\sim \\mathcal{N}(\\zeta(t) + \\mu, \\sigma^2 I_{2 \\times 2})$ -->"
   ]
  },
  {
   "cell_type": "code",
   "execution_count": 8,
   "id": "b9dce059",
   "metadata": {},
   "outputs": [],
   "source": [
    "xi = current_visible_data[['x', 'y']].values\n",
    "zeta = [[0,0]]\n",
    "for i in range(len(xi)-1):\n",
    "    y.append(find_max_path(xi[i],y))"
   ]
  },
  {
   "cell_type": "code",
   "execution_count": null,
   "id": "fec69984",
   "metadata": {},
   "outputs": [],
   "source": []
  },
  {
   "cell_type": "code",
   "execution_count": 579,
   "id": "b43f0865",
   "metadata": {},
   "outputs": [
    {
     "data": {
      "text/plain": [
       "0.00023663290612937414"
      ]
     },
     "execution_count": 579,
     "metadata": {},
     "output_type": "execute_result"
    }
   ],
   "source": [
    "from scipy.stats import multivariate_normal\n",
    "\n",
    "\n",
    "\n",
    "cur_dzeta = np.array([0,0])\n",
    "cur_xi = xi[0]\n",
    "probs = []\n",
    "for a_key, a_value in a.items():\n",
    "    rv = multivariate_normal(mu + cur_dzeta + np.array(a_key) , cov)\n",
    "    probs.append(a_value * rv.pdf(cur_xi))\n",
    "max(probs)\n",
    "\n",
    "\n"
   ]
  },
  {
   "cell_type": "code",
   "execution_count": null,
   "id": "8b00aa6e",
   "metadata": {},
   "outputs": [],
   "source": []
  }
 ],
 "metadata": {
  "kernelspec": {
   "display_name": "Python 3",
   "language": "python",
   "name": "python3"
  },
  "language_info": {
   "codemirror_mode": {
    "name": "ipython",
    "version": 3
   },
   "file_extension": ".py",
   "mimetype": "text/x-python",
   "name": "python",
   "nbconvert_exporter": "python",
   "pygments_lexer": "ipython3",
   "version": "3.11.6"
  }
 },
 "nbformat": 4,
 "nbformat_minor": 5
}
